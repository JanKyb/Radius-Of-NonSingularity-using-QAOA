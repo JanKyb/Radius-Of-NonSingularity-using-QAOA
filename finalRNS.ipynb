{
 "cells": [
  {
   "cell_type": "markdown",
   "id": "2cadca35-a3eb-4f25-ac04-a518ab7f454f",
   "metadata": {},
   "source": [
    "# Radius of Non-Singularity\n",
    "This code is used for calculating the radius of Non-Singularity with Quantum Logic. It follows along the Paper \"Verifying Interval Matrix properties on a quantum computer\" [Jan Schneider, Julian Berberich 2023].\n",
    "\n",
    "The considered problem is given as $ d(A,\\Delta)=\\frac{1}{\\max\\{\\rho_0(A^{-1}T_y \\Delta T_z)|y,z \\in Q_n \\}} $. We can see here that the important part is the denominator, where we have to solve a binary optimization problem. For problem formulations like this, the Quantum Approximate Optimization Algorithm is very useful and hence is used in this code. \n",
    "\n",
    "Initially, we give the code a problem specific $ A^{-1} $ and a $ \\delta $ matrix. We restrained conditions on $\\Delta$ being a rank $1$ Matrix. This code works for $\\Delta=\\delta^Te$. Since the inversion of a Matrix can be done in polynomial time, it does not infect the complexity and we directly give the code an inverse. This is also due to numerical reasons. The code then calculates $ \\max\\{\\rho_0(A^{-1}T_y \\Delta T_z)|y,z \\in Q_n \\} $ and gives back the solution string with the highest amount of counts. In other words, that solution which resulted during the optimization the highest ammount of times as the optimum. This script uses an open source toolbox called \"Pennylane\" [V. Bergholm, J. Izaac, M. Schuld, et al., “Pennylane: Automatic differentiation of hybrid quantum-classical computations,” arXiv:1811.04968, 2018.] allowing to implement quantum logic and algorithms in an appropriate framework. The code is based on a [pennylane tutorial](https://pennylane.ai/qml/demos/tutorial_qaoa_maxcut/) for implementing the maxcut problem, which is closely related to the discussed problem. \n",
    "\n",
    "We start by importing all the necessary libraries."
   ]
  },
  {
   "cell_type": "code",
   "execution_count": 37,
   "id": "46987113-b55a-47f7-a6bb-79a0be007023",
   "metadata": {},
   "outputs": [],
   "source": [
    "import pennylane as qml\n",
    "from pennylane import numpy as np\n",
    "import networkx as nx\n",
    "#np.random.seed(42)"
   ]
  },
  {
   "cell_type": "markdown",
   "id": "130241a6-f866-40d4-9632-afbffa7fc034",
   "metadata": {},
   "source": [
    "In the next cell we set up our initial Problem. Since the Instance to the algorithm is a Matrix, we somehow have to incorporate this to the algorithm. A very convenient approach of working with matrices is by transforming them into bipartite graphs. The idea behind this relies on the correlation between the maxcut quantum algorithm and our problem set up. These Graphs exist of 2 distinct subsets representing our $n\\times n$ space. Hence we need $n$ vertices per subset in order to represent a $n\\times n$ Matrix. Note that it would not be necessary to do this step, it is just easier to incorporate the right edges at the right places. \n",
    "\n",
    "The bipartite graph representation of a matrix is then fairly simple. The $ i,j $-th matrix entry is represented by connecting node $ i $ of the first subset with node $ j$ of the second one with a weighted edge. The edge weight represents the value of the matrix entry.\n",
    "\n",
    "What we end up with is a function to convert matrices in a bipartite graph and the setup of $ A $ and $ \\delta $."
   ]
  },
  {
   "cell_type": "code",
   "execution_count": 38,
   "id": "78f2b846-f036-4199-826d-1d5b8770526c",
   "metadata": {
    "tags": []
   },
   "outputs": [],
   "source": [
    "def convert_to_bipartite(A):\n",
    "    bip = nx.Graph()\n",
    "    n = np.sqrt(A.size).astype(int)\n",
    "    nodes_1 = list(range(0,n))\n",
    "    nodes_2 = list(range(n,2*n))\n",
    "    bip.add_nodes_from(nodes_1,bipartite=0)\n",
    "    bip.add_nodes_from(nodes_2,bipartite=1)\n",
    "    for i in range(n):\n",
    "        for j in range(n,2*n):\n",
    "            bip.add_edge(i,j,weight = A[i,j-n])\n",
    "    \n",
    "    pos = nx.bipartite_layout(bip,nodes_1)\n",
    "    return bip,pos\n",
    "\n",
    "#define Graph\n",
    "#A_m2 = np.array([[1,0,1,1],[1,1,0,1],[0,1,1,1],[1,1,1,0]])\n",
    "A_m2 = np.array([[-0.7333,-0.2333,0.1],[-0.2333,-0.2333,0.1],[0.1,0.1,0.1]])\n",
    "G,pos = convert_to_bipartite(A_m2)\n",
    "dimension = np.sqrt(A_m2.size).astype(int) #matrix dimension\n",
    "\n",
    "edges = list(G.edges())\n",
    "weighted_edges = nx.get_edge_attributes(G, 'weight')\n",
    "#print(weighted_edges)#printing the edges and the according weights (matrix entrys)\n",
    "\n",
    "#define uncertainty\n",
    "#Delta = np.array([[1,1,1,1],[2,2,2,2],[3,3,3,3],[4,4,4,4]])\n",
    "Delta = np.array([[1,1,1],[1,1,1],[1,1,1]])\n",
    "G_D,pos_D = convert_to_bipartite(Delta)\n",
    "\n",
    "edges_D = list(G_D.edges())\n",
    "weighted_edges_D = nx.get_edge_attributes(G_D, 'weight')\n",
    "#print(weighted_edges_D)"
   ]
  },
  {
   "cell_type": "markdown",
   "id": "ef9b27f8-7804-4099-8c32-9c5dcddc72f3",
   "metadata": {},
   "source": [
    "Next, we have to initialize the necessary things for the QAOA algorithm. QAOAs working principle is applying a problem unitary $ U(\\gamma) $ and a mixing unitary $ U(\\beta) $ alternating a certain ammount of times on an initial quantum state in super position. Then, the expactation value is evaluated and both variables $ \\gamma $ and $ \\beta $ are optimized. After a sufficient amount of optimization iterations, the expectation value of the quantum circuit is evaluated with the optimal parameters $100$ times. Now, the optimal solution strings are more likely to be the results of the expectation values. Hence, every binary string from the expectation value gets a count at each iteration. This way, an histogram over all possible solution strings can be determined, indicating an optimal solution, which precision heavily relies on the optimization iterations and the problem complexity.\n",
    "\n",
    "The core of the quantum algorithm are the problem and mixing Unitary $U(\\gamma)$ and $U(\\beta)$. Hence, the first thing we do is to initialize the necessary number of qubits and define appropriate Unitaries according to Eq.~(25) and Theorem~(5). As stated in the paper, double the amount of qubits then system dimensions are required, i.e. $n_{qubits}=2*n$. Besides, note that in the given problem Hamiltonian, the $i$-th and the $(n+j)$-th qubit are entangled using the $Z$-gates. However, it is sufficient for the definition to iterate over all edges of the graph. Due to its bipartite structure, this exact relation can be represented easily."
   ]
  },
  {
   "cell_type": "code",
   "execution_count": 39,
   "id": "6a80f0ed",
   "metadata": {},
   "outputs": [],
   "source": [
    "n_wires = 2*dimension\n",
    "\n",
    "# unitary operator U_B with parameter beta as mixing hamiltonian\n",
    "def U_B(beta):\n",
    "    for wire in range(n_wires):\n",
    "        qml.RX(2 * beta, wires=wire)\n",
    "\n",
    "\n",
    "# unitary operator U_C with parameter gamma as cost hamiltonian\n",
    "def U_C(gamma):\n",
    "    for edge in edges:\n",
    "        wire1 = edge[0]\n",
    "        wire2 = edge[1]\n",
    "        weight_A = weighted_edges[edge]\n",
    "        weight_Delta = weighted_edges_D[edge] #new imposed weight from uncertainty description\n",
    "        weight = weight_A*weight_Delta\n",
    "        #addd appropriate weight with weight = weight_A*weight_Delta and adressed wires according to Theorem 5\n",
    "        qml.CNOT(wires=[wire1, wire2])\n",
    "        qml.RZ(gamma*weight, wires=wire2)\n",
    "        qml.CNOT(wires=[wire1, wire2])"
   ]
  },
  {
   "cell_type": "markdown",
   "id": "df4a3f30",
   "metadata": {},
   "source": [
    "We require a method to translate a bitstring, which signifies a sample of several qubits in the computational basis, into an integer or decimal representation."
   ]
  },
  {
   "cell_type": "code",
   "execution_count": 40,
   "id": "8d5cc0b7",
   "metadata": {},
   "outputs": [],
   "source": [
    "def bitstring_to_int(bit_string_sample):\n",
    "    bit_string = \"\".join(str(bs) for bs in bit_string_sample)\n",
    "    return int(bit_string, base=2)"
   ]
  },
  {
   "cell_type": "markdown",
   "id": "bf93d30c",
   "metadata": {},
   "source": [
    "Next, the algorithm can be constructed. It follows a standard approach, also explained in the paper, by initially transforming the qubits into superposition. Then the problem and mixing Unitaries are applied in an alternating fashion. The algorithm then either returns an expectation value for the algorithm or an approximate optimal bit string. More details on the code structure can be found in the pennylane tutorial."
   ]
  },
  {
   "cell_type": "code",
   "execution_count": 41,
   "id": "f92e2e9b",
   "metadata": {},
   "outputs": [],
   "source": [
    "dev = qml.device(\"lightning.qubit\", wires=n_wires, shots=1) #create a quantum device\n",
    "@qml.qnode(dev)\n",
    "def circuit(gammas, betas, edge=None, n_layers=1):\n",
    "    # apply Hadamards to get the n qubit |+> state\n",
    "    for wire in range(n_wires):\n",
    "        qml.Hadamard(wires=wire)\n",
    "    # p instances of unitary operators\n",
    "    for i in range(n_layers):\n",
    "        U_C(gammas[i])\n",
    "        U_B(betas[i])\n",
    "    if edge is None:\n",
    "        # measurement phase\n",
    "        return qml.sample()\n",
    "    # during the optimization phase we are evaluating a term\n",
    "    # in the objective using expval\n",
    "    H = qml.PauliZ(edge[0]) @ qml.PauliZ(edge[1])\n",
    "    return qml.expval(H)"
   ]
  },
  {
   "cell_type": "markdown",
   "id": "09df690b",
   "metadata": {},
   "source": [
    "Finally, the optimization is done by using the AdagradOptimizer and minimizing the negative objective function $-C(x)$, which is also imposed regarding the problem formulation in the paper. The optimization is carried out with one and four layers, differing in computational complexity but also drastically in the precision of the histogram. Finding an appropriate compromise between these two characteristics by adapting layers and optimization iterations is crucial for a satisfactory performance."
   ]
  },
  {
   "cell_type": "code",
   "execution_count": 42,
   "id": "606e99af",
   "metadata": {},
   "outputs": [
    {
     "name": "stdout",
     "output_type": "stream",
     "text": [
      "\n",
      "p=1\n",
      "Objective after step     5:  1.0000000\n",
      "Objective after step    10:  0.8000000\n",
      "Objective after step    15:  0.8000000\n",
      "Objective after step    20:  1.0666000\n",
      "Objective after step    25:  1.3332000\n",
      "Objective after step    30:  1.0666000\n",
      "Objective after step    35:  1.0666000\n",
      "Objective after step    40:  1.2666000\n",
      "Objective after step    45:  1.5332000\n",
      "Objective after step    50:  1.5332000\n",
      "Objective after step    55:  1.1332000\n",
      "Objective after step    60:  1.3332000\n",
      "Objective after step    65:  1.5332000\n",
      "Objective after step    70:  1.0666000\n",
      "Objective after step    75:  1.0666000\n",
      "Objective after step    80:  0.6666000\n",
      "Objective after step    85:  1.5332000\n",
      "Objective after step    90:  1.0666000\n",
      "Objective after step    95:  1.5332000\n",
      "Objective after step   100:  1.3332000\n",
      "Optimized (gamma, beta) vectors:\n",
      "[[1.82286653]\n",
      " [0.29387898]]\n",
      "Most frequently sampled bit string is: 00001110\n",
      "\n",
      "p=4\n",
      "Objective after step     5: -0.2666000\n",
      "Objective after step    10:  1.0666000\n",
      "Objective after step    15:  0.6666000\n",
      "Objective after step    20:  1.5332000\n",
      "Objective after step    25:  1.1332000\n",
      "Objective after step    30:  1.2666000\n",
      "Objective after step    35:  1.3332000\n",
      "Objective after step    40:  1.7332000\n",
      "Objective after step    45:  1.5332000\n",
      "Objective after step    50:  1.4666000\n",
      "Objective after step    55:  1.0666000\n",
      "Objective after step    60:  1.7332000\n",
      "Objective after step    65:  1.5332000\n",
      "Objective after step    70:  1.5332000\n",
      "Objective after step    75:  0.8000000\n",
      "Objective after step    80:  1.7332000\n",
      "Objective after step    85:  1.2666000\n",
      "Objective after step    90:  1.7332000\n",
      "Objective after step    95:  0.0666000\n",
      "Objective after step   100:  1.7332000\n",
      "Optimized (gamma, beta) vectors:\n",
      "[[ 1.3060066   0.12094872  2.05438447  2.09356894]\n",
      " [ 1.21133118 -0.68731321 -1.14865976 -1.3537867 ]]\n",
      "Most frequently sampled bit string is: 00110001\n"
     ]
    }
   ],
   "source": [
    "def qaoa_rns(n_layers=1):\n",
    "    print(\"\\np={:d}\".format(n_layers))\n",
    "\n",
    "    # initialize the parameters near zero\n",
    "    init_params = 0.01 * np.random.rand(2, n_layers, requires_grad=True)\n",
    "\n",
    "    # minimize the negative of the objective function\n",
    "    def objective(params):\n",
    "        gammas = params[0]\n",
    "        betas = params[1]\n",
    "        neg_obj = 0\n",
    "        for edge in edges:\n",
    "            # objective for the MaxCut problem\n",
    "            weight_A = weighted_edges[edge]\n",
    "            weight_Delta = weighted_edges_D[edge] #new imposed weight from uncertainty description\n",
    "            weight = weight_A*weight_Delta\n",
    "            neg_obj -= weight*circuit(gammas, betas, edge=edge, n_layers=n_layers)\n",
    "        return neg_obj\n",
    "\n",
    "    # initialize optimizer: Adagrad works well empirically\n",
    "    opt = qml.AdagradOptimizer(stepsize=0.5)\n",
    "\n",
    "    # optimize parameters in objective\n",
    "    params = init_params\n",
    "    steps = 100\n",
    "    for i in range(steps):\n",
    "        params = opt.step(objective, params)\n",
    "        if (i + 1) % 5 == 0:\n",
    "            print(\"Objective after step {:5d}: {: .7f}\".format(i + 1, -objective(params)))\n",
    "\n",
    "    # sample measured bitstrings 100 times\n",
    "    bit_strings = []\n",
    "    n_samples = 100\n",
    "    for i in range(0, n_samples):\n",
    "        bit_strings.append(bitstring_to_int(circuit(params[0], params[1], edge=None, n_layers=n_layers)))\n",
    "\n",
    "    # print optimal parameters and most frequently sampled bitstring\n",
    "    counts = np.bincount(np.array(bit_strings))\n",
    "    most_freq_bit_string = np.argmax(counts)\n",
    "    print(\"Optimized (gamma, beta) vectors:\\n{}\".format(params[:, :n_layers]))\n",
    "    print(\"Most frequently sampled bit string is: {:08b}\".format(most_freq_bit_string))\n",
    "\n",
    "    return -objective(params), bit_strings\n",
    "\n",
    "\n",
    "# perform qaoa on our graph with p=1,2 and\n",
    "# keep the bitstring sample lists\n",
    "bitstrings1 = qaoa_rns(n_layers=1)[1]\n",
    "bitstrings2 = qaoa_rns(n_layers=4)[1]"
   ]
  },
  {
   "cell_type": "markdown",
   "id": "fd219b24",
   "metadata": {},
   "source": [
    "At the end, the results are plotted."
   ]
  },
  {
   "cell_type": "code",
   "execution_count": 45,
   "id": "5f156d8f",
   "metadata": {},
   "outputs": [
    {
     "data": {
      "image/png": "[encoded data removed]",
      "text/plain": [
       "<Figure size 640x480 with 1 Axes>"
      ]
     },
     "metadata": {},
     "output_type": "display_data"
    }
   ],
   "source": [
    "import matplotlib.pyplot as plt\n",
    "\n",
    "xticks = range(0, 2**n_wires)\n",
    "xtick_labels = list(map(lambda x: format(x, \"08b\"), xticks))\n",
    "bins = np.arange(0, 2**n_wires + 1) - 0.5\n",
    "\n",
    "plt.title(\"Histogram Comparison\")\n",
    "plt.xlabel(\"Bitstrings\")\n",
    "plt.ylabel(\"Frequency\")\n",
    "plt.xticks(xticks, xtick_labels, rotation=\"vertical\")\n",
    "\n",
    "plt.hist(bitstrings1, bins=bins, alpha=0.5, label=\"n_layers=1\")  # Plot first histogram\n",
    "plt.hist(bitstrings2, bins=bins, alpha=0.5, label=\"n_layers=4\")  # Plot second histogram\n",
    "\n",
    "plt.legend()  # Display legend\n",
    "\n",
    "plt.tight_layout()\n",
    "plt.show()"
   ]
  },
  {
   "cell_type": "code",
   "execution_count": 47,
   "id": "46360c6f",
   "metadata": {},
   "outputs": [
    {
     "name": "stdout",
     "output_type": "stream",
     "text": [
      "Top 5 most common numbers:\n",
      "Number: 50, Count: 18\n",
      "Number: 15, Count: 15\n",
      "Number: 58, Count: 12\n",
      "Number: 16, Count: 11\n",
      "Number: 7, Count: 9\n"
     ]
    }
   ],
   "source": [
    "import numpy as np\n",
    "import collections\n",
    "\n",
    "# Your array\n",
    "numbers = bitstrings2\n",
    "\n",
    "# Count the occurrences of each number\n",
    "number_counts = collections.Counter(numbers)\n",
    "\n",
    "# Get the top 5 most common numbers\n",
    "top_5_numbers = number_counts.most_common(5)\n",
    "\n",
    "# Print the result\n",
    "print(\"Top 5 most common numbers:\")\n",
    "for number, count in top_5_numbers:\n",
    "    print(f\"Number: {number+1}, Count: {count}\")"
   ]
  }
 ],
 "metadata": {
  "kernelspec": {
   "display_name": "Python 3 (ipykernel)",
   "language": "python",
   "name": "python3"
  },
  "language_info": {
   "codemirror_mode": {
    "name": "ipython",
    "version": 3
   },
   "file_extension": ".py",
   "mimetype": "text/x-python",
   "name": "python",
   "nbconvert_exporter": "python",
   "pygments_lexer": "ipython3",
   "version": "3.11.4"
  }
 },
 "nbformat": 4,
 "nbformat_minor": 5
}
