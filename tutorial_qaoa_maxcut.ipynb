{
  "cells": [
    {
      "cell_type": "code",
      "execution_count": null,
      "metadata": {
        "collapsed": false
      },
      "outputs": [],
      "source": [
        "# This cell is added by sphinx-gallery\n",
        "# It can be customized to whatever you like\n",
        "%matplotlib inline"
      ]
    },
    {
      "cell_type": "markdown",
      "metadata": {},
      "source": [
        "QAOA for MaxCut {#qaoa_maxcut}\n",
        "===============\n",
        "\n",
        "::: {.meta}\n",
        ":property=\\\"og:description\\\": Implementing the quantum approximate\n",
        "optimization algorithm using PennyLane to solve the MaxCut problem.\n",
        ":property=\\\"og:image\\\":\n",
        "<https://pennylane.ai/qml/_static/demonstration_assets//qaoa_maxcut_partition.png>\n",
        ":::\n",
        "\n",
        "::: {.related}\n",
        "tutorial\\_qaoa\\_intro Intro to QAOA\n",
        ":::\n",
        "\n",
        "*Author: Angus Lowe --- Posted: 11 October 2019. Last updated: 13 April\n",
        "2021.*\n"
      ]
    },
    {
      "cell_type": "markdown",
      "metadata": {},
      "source": [
        "In this tutorial we implement the quantum approximate optimization\n",
        "algorithm (QAOA) for the MaxCut problem as proposed by [Farhi,\n",
        "Goldstone, and Gutmann (2014)](https://arxiv.org/abs/1411.4028). First,\n",
        "we give an overview of the MaxCut problem using a simple example, a\n",
        "graph with 4 vertices and 4 edges. We then show how to find the maximum\n",
        "cut by running the QAOA algorithm using PennyLane.\n",
        "\n",
        "Background\n",
        "==========\n",
        "\n",
        "The MaxCut problem\n",
        "------------------\n",
        "\n",
        "The aim of MaxCut is to maximize the number of edges (yellow lines) in a\n",
        "graph that are \\\"cut\\\" by a given partition of the vertices (blue\n",
        "circles) into two sets (see figure below).\n",
        "\n",
        "![](../_static/demonstration_assets/qaoa_maxcut/qaoa_maxcut_partition.png){.align-center}\n",
        "\n",
        "| \n",
        "\n",
        "Consider a graph with $m$ edges and $n$ vertices. We seek the partition\n",
        "$z$ of the vertices into two sets $A$ and $B$ which maximizes\n",
        "\n",
        "$$C(z) = \\sum_{\\alpha=1}^{m}C_\\alpha(z),$$\n",
        "\n",
        "where $C$ counts the number of edges cut. $C_\\alpha(z)=1$ if $z$ places\n",
        "one vertex from the $\\alpha^\\text{th}$ edge in set $A$ and the other in\n",
        "set $B$, and $C_\\alpha(z)=0$ otherwise. Finding a cut which yields the\n",
        "maximum possible value of $C$ is an NP-complete problem, so our best\n",
        "hope for a polynomial-time algorithm lies in an approximate\n",
        "optimization. In the case of MaxCut, this means finding a partition $z$\n",
        "which yields a value for $C(z)$ that is close to the maximum possible\n",
        "value.\n",
        "\n",
        "We can represent the assignment of vertices to set $A$ or $B$ using a\n",
        "bitstring, $z=z_1...z_n$ where $z_i=0$ if the $i^\\text{th}$ vertex is in\n",
        "$A$ and $z_i = 1$ if it is in $B$. For instance, in the situation\n",
        "depicted in the figure above the bitstring representation is\n",
        "$z=0101\\text{,}$ indicating that the $0^{\\text{th}}$ and $2^{\\text{nd}}$\n",
        "vertices are in $A$ while the $1^{\\text{st}}$ and $3^{\\text{rd}}$ are in\n",
        "$B$. This assignment yields a value for the objective function (the\n",
        "number of yellow lines cut) $C=4$, which turns out to be the maximum\n",
        "cut. In the following sections, we will represent partitions using\n",
        "computational basis states and use PennyLane to rediscover this maximum\n",
        "cut.\n",
        "\n",
        "::: {.note}\n",
        "::: {.title}\n",
        "Note\n",
        ":::\n",
        "\n",
        "In the graph above, $z=1010$ could equally well serve as the maximum\n",
        "cut.\n",
        ":::\n",
        "\n",
        "A circuit for QAOA\n",
        "------------------\n",
        "\n",
        "This section describes implementing a circuit for QAOA using basic\n",
        "unitary gates to find approximate solutions to the MaxCut problem.\n",
        "Firstly, denoting the partitions using computational basis states\n",
        "$|z\\rangle$, we can represent the terms in the objective function as\n",
        "operators acting on these states\n",
        "\n",
        "$$C_\\alpha = \\frac{1}{2}\\left(1-\\sigma_{z}^j\\sigma_{z}^k\\right),$$\n",
        "\n",
        "where the $\\alpha\\text{th}$ edge is between vertices $(j,k)$. $C_\\alpha$\n",
        "has eigenvalue 1 if and only if the $j\\text{th}$ and $k\\text{th}$ qubits\n",
        "have different z-axis measurement values, representing separate\n",
        "partitions. The objective function $C$ can be considered a diagonal\n",
        "operator with integer eigenvalues.\n",
        "\n",
        "QAOA starts with a uniform superposition over the $n$ bitstring basis\n",
        "states,\n",
        "\n",
        "$$|+_{n}\\rangle = \\frac{1}{\\sqrt{2^n}}\\sum_{z\\in \\{0,1\\}^n} |z\\rangle.$$\n",
        "\n",
        "We aim to explore the space of bitstring states for a superposition\n",
        "which is likely to yield a large value for the $C$ operator upon\n",
        "performing a measurement in the computational basis. Using the $2p$\n",
        "angle parameters $\\boldsymbol{\\gamma} = \\gamma_1\\gamma_2...\\gamma_p$,\n",
        "$\\boldsymbol{\\beta} = \\beta_1\\beta_2...\\beta_p$ we perform a sequence of\n",
        "operations on our initial state:\n",
        "\n",
        "$$|\\boldsymbol{\\gamma},\\boldsymbol{\\beta}\\rangle = U_{B_p}U_{C_p}U_{B_{p-1}}U_{C_{p-1}}...U_{B_1}U_{C_1}|+_n\\rangle$$\n",
        "\n",
        "where the operators have the explicit forms\n",
        "\n",
        "$$\\begin{aligned}\n",
        "U_{B_l} &= e^{-i\\beta_lB} = \\prod_{j=1}^n e^{-i\\beta_l\\sigma_x^j}, \\\\\n",
        "U_{C_l} &= e^{-i\\gamma_lC} = \\prod_{\\text{edge (j,k)}} e^{-i\\gamma_l(1-\\sigma_z^j\\sigma_z^k)/2}.\n",
        "\\end{aligned}$$\n",
        "\n",
        "In other words, we make $p$ layers of parametrized $U_bU_C$ gates. These\n",
        "can be implemented on a quantum circuit using the gates depicted below,\n",
        "up to an irrelevant constant that gets absorbed into the parameters.\n",
        "\n",
        "![](../_static/demonstration_assets/qaoa_maxcut/qaoa_operators.png){.align-center}\n",
        "\n",
        "| \n",
        "\n",
        "Let $\\langle \\boldsymbol{\\gamma},\n",
        "\\boldsymbol{\\beta} | C | \\boldsymbol{\\gamma},\\boldsymbol{\\beta} \\rangle$\n",
        "be the expectation of the objective operator. In the next section, we\n",
        "will use PennyLane to perform classical optimization over the circuit\n",
        "parameters $(\\boldsymbol{\\gamma}, \\boldsymbol{\\beta})$. This will\n",
        "specify a state $|\\boldsymbol{\\gamma},\\boldsymbol{\\beta}\\rangle$ which\n",
        "is likely to yield an approximately optimal partition $|z\\rangle$ upon\n",
        "performing a measurement in the computational basis. In the case of the\n",
        "graph shown above, we want to measure either 0101 or 1010 from our state\n",
        "since these correspond to the optimal partitions.\n",
        "\n",
        "![](../_static/demonstration_assets/qaoa_maxcut/qaoa_optimal_state.png){.align-center}\n",
        "\n",
        "| \n",
        "\n",
        "Qualitatively, QAOA tries to evolve the initial state into the plane of\n",
        "the $|0101\\rangle$, $|1010\\rangle$ basis states (see figure above).\n",
        "\n",
        "Implementing QAOA in PennyLane\n",
        "==============================\n",
        "\n",
        "Imports and setup\n",
        "-----------------\n",
        "\n",
        "To get started, we import PennyLane along with the PennyLane-provided\n",
        "version of NumPy.\n"
      ]
    },
    {
      "cell_type": "code",
      "execution_count": 3,
      "metadata": {
        "collapsed": false
      },
      "outputs": [],
      "source": [
        "import pennylane as qml\n",
        "from pennylane import numpy as np\n",
        "import networkx as nx\n",
        "np.random.seed(42)"
      ]
    },
    {
      "cell_type": "code",
      "execution_count": 1,
      "metadata": {},
      "outputs": [
        {
          "name": "stdout",
          "output_type": "stream",
          "text": [
            "Inverse Matrix:\n",
            "[[ 1.00000000e+00 -1.66533454e-16  1.00000000e+00  1.00000000e+00]\n",
            " [ 1.00000000e+00  1.00000000e+00  0.00000000e+00  1.00000000e+00]\n",
            " [ 0.00000000e+00  1.00000000e+00  1.00000000e+00  1.00000000e+00]\n",
            " [ 1.00000000e+00  1.00000000e+00  1.00000000e+00  0.00000000e+00]]\n"
          ]
        }
      ],
      "source": [
        "import numpy as np\n",
        "\n",
        "# Define the matrix\n",
        "matrix = np.array([[1/3, 1/3, -2/3, 1/3],\n",
        "                   [-2/3, 1/3, 1/3, 1/3],\n",
        "                   [1/3, -2/3, 1/3, 1/3],\n",
        "                   [1/3, 1/3, 1/3, -2/3]])\n",
        "\n",
        "# Calculate the inverse matrix\n",
        "inverse_matrix = np.linalg.inv(matrix)\n",
        "\n",
        "print(\"Inverse Matrix:\")\n",
        "print(inverse_matrix)\n"
      ]
    },
    {
      "cell_type": "markdown",
      "metadata": {},
      "source": [
        "Operators\n",
        "=========\n",
        "\n",
        "We specify the number of qubits (vertices) with `n_wires` and compose\n",
        "the unitary operators using the definitions above. $U_B$ operators act\n",
        "on individual wires, while $U_C$ operators act on wires whose\n",
        "corresponding vertices are joined by an edge in the graph. We also\n",
        "define the graph using the list `graph`, which contains the tuples of\n",
        "vertices defining each edge in the graph.\n"
      ]
    },
    {
      "cell_type": "code",
      "execution_count": 4,
      "metadata": {},
      "outputs": [],
      "source": [
        "def convert_to_bipartite(A):\n",
        "    bip = nx.Graph()\n",
        "    n = np.sqrt(A.size).astype(int)\n",
        "    nodes_1 = list(range(0,n))\n",
        "    nodes_2 = list(range(n,2*n))\n",
        "    bip.add_nodes_from(nodes_1,bipartite=0)\n",
        "    bip.add_nodes_from(nodes_2,bipartite=1)\n",
        "    for i in range(n):\n",
        "        for j in range(n,2*n):\n",
        "            bip.add_edge(i,j,weight = A[i,j-n])\n",
        "    \n",
        "    pos = nx.bipartite_layout(bip,nodes_1)\n",
        "    return bip,pos\n",
        "\n",
        "#define Graph\n",
        "A_m2 = np.array([[1,0,1,1],[1,1,1,1],[0,1,1,1],[1,1,1,1]])\n",
        "#A_m2 = np.array([[1,1],[0,1]])\n",
        "G,pos = convert_to_bipartite(A_m2)\n",
        "dimension = np.sqrt(A_m2.size).astype(int) #matrix dimension\n",
        "\n",
        "edges = list(G.edges())\n",
        "weighted_edges = nx.get_edge_attributes(G, 'weight')\n",
        "#print(weighted_edges)#printing the edges and the according weights (matrix entrys)\n",
        "\n",
        "#define uncertainty\n",
        "Delta = np.array([[1,1,1,1],[2,2,2,2],[3,3,3,3],[4,4,4,4]])\n",
        "#Delta = np.array([[1,1],[1,1]])\n",
        "G_D,pos_D = convert_to_bipartite(Delta)\n",
        "\n",
        "edges_D = list(G_D.edges())\n",
        "weighted_edges_D = nx.get_edge_attributes(G_D, 'weight')\n",
        "#print(weighted_edges_D)"
      ]
    },
    {
      "cell_type": "code",
      "execution_count": 5,
      "metadata": {
        "collapsed": false
      },
      "outputs": [],
      "source": [
        "n_wires = 8\n",
        "graph = [(0, 1), (0, 3), (1, 2), (2, 3)]\n",
        "\n",
        "# unitary operator U_B with parameter beta\n",
        "def U_B(beta):\n",
        "    for wire in range(n_wires):\n",
        "        qml.RX(2 * beta, wires=wire)\n",
        "\n",
        "\n",
        "# unitary operator U_C with parameter gamma\n",
        "def U_C(gamma):\n",
        "    for edge in edges:\n",
        "        wire1 = edge[0]\n",
        "        wire2 = edge[1]\n",
        "        weight_A = weighted_edges[edge]\n",
        "        weight_Delta = weighted_edges_D[edge] #new imposed weight from uncertainty description\n",
        "        weight = weight_A*weight_Delta\n",
        "        #JAN addd appropriate weight with weight = weight_A*weight_Delta\n",
        "        qml.CNOT(wires=[wire1, wire2])\n",
        "        qml.RZ(gamma*weight, wires=wire2)\n",
        "        qml.CNOT(wires=[wire1, wire2])"
      ]
    },
    {
      "cell_type": "markdown",
      "metadata": {},
      "source": [
        "We will need a way to convert a bitstring, representing a sample of\n",
        "multiple qubits in the computational basis, to integer or base-10 form.\n"
      ]
    },
    {
      "cell_type": "code",
      "execution_count": 6,
      "metadata": {
        "collapsed": false
      },
      "outputs": [],
      "source": [
        "def bitstring_to_int(bit_string_sample):\n",
        "    bit_string = \"\".join(str(bs) for bs in bit_string_sample)\n",
        "    return int(bit_string, base=2)"
      ]
    },
    {
      "cell_type": "markdown",
      "metadata": {},
      "source": [
        "Circuit\n",
        "=======\n",
        "\n",
        "Next, we create a quantum device with 4 qubits.\n"
      ]
    },
    {
      "cell_type": "code",
      "execution_count": 7,
      "metadata": {
        "collapsed": false
      },
      "outputs": [],
      "source": [
        "dev = qml.device(\"lightning.qubit\", wires=n_wires, shots=1)"
      ]
    },
    {
      "cell_type": "markdown",
      "metadata": {},
      "source": [
        "We also require a quantum node which will apply the operators according\n",
        "to the angle parameters, and return the expectation value of the\n",
        "observable $\\sigma_z^{j}\\sigma_z^{k}$ to be used in each term of the\n",
        "objective function later on. The argument `edge` specifies the chosen\n",
        "edge term in the objective function, $(j,k)$. Once optimized, the same\n",
        "quantum node can be used for sampling an approximately optimal bitstring\n",
        "if executed with the `edge` keyword set to `None`. Additionally, we\n",
        "specify the number of layers (repeated applications of $U_BU_C$) using\n",
        "the keyword `n_layers`.\n"
      ]
    },
    {
      "cell_type": "code",
      "execution_count": 8,
      "metadata": {
        "collapsed": false
      },
      "outputs": [],
      "source": [
        "@qml.qnode(dev)\n",
        "def circuit(gammas, betas, edge=None, n_layers=1):\n",
        "    # apply Hadamards to get the n qubit |+> state\n",
        "    for wire in range(n_wires):\n",
        "        qml.Hadamard(wires=wire)\n",
        "    # p instances of unitary operators\n",
        "    for i in range(n_layers):\n",
        "        U_C(gammas[i])\n",
        "        U_B(betas[i])\n",
        "    if edge is None:\n",
        "        # measurement phase\n",
        "        return qml.sample()\n",
        "    # during the optimization phase we are evaluating a term\n",
        "    # in the objective using expval\n",
        "    H = qml.PauliZ(edge[0]) @ qml.PauliZ(edge[1])\n",
        "    return qml.expval(H)"
      ]
    },
    {
      "cell_type": "markdown",
      "metadata": {},
      "source": [
        "Optimization\n",
        "============\n",
        "\n",
        "Finally, we optimize the objective over the angle parameters\n",
        "$\\boldsymbol{\\gamma}$ (`params[0]`) and $\\boldsymbol{\\beta}$\n",
        "(`params[1]`) and then sample the optimized circuit multiple times to\n",
        "yield a distribution of bitstrings. One of the optimal partitions\n",
        "($z=0101$ or $z=1010$) should be the most frequently sampled bitstring.\n",
        "We perform a maximization of $C$ by minimizing $-C$, following the\n",
        "convention that optimizations are cast as minimizations in PennyLane.\n"
      ]
    },
    {
      "cell_type": "code",
      "execution_count": 9,
      "metadata": {
        "collapsed": false
      },
      "outputs": [
        {
          "name": "stdout",
          "output_type": "stream",
          "text": [
            "\n",
            "p=1\n",
            "Objective after step     5: -6.0000000\n",
            "Objective after step    10:  20.0000000\n",
            "Objective after step    15: -16.0000000\n",
            "Objective after step    20: -8.0000000\n",
            "Objective after step    25: -16.0000000\n",
            "Objective after step    30: -2.0000000\n",
            "Objective after step    35:  16.0000000\n",
            "Objective after step    40:  6.0000000\n",
            "Objective after step    45: -6.0000000\n",
            "Objective after step    50: -10.0000000\n",
            "Objective after step    55:  8.0000000\n",
            "Objective after step    60:  6.0000000\n",
            "Objective after step    65: -18.0000000\n",
            "Objective after step    70: -2.0000000\n",
            "Objective after step    75:  10.0000000\n",
            "Objective after step    80:  8.0000000\n",
            "Objective after step    85:  4.0000000\n",
            "Objective after step    90: -2.0000000\n",
            "Objective after step    95: -2.0000000\n",
            "Objective after step   100: -2.0000000\n",
            "Optimized (gamma, beta) vectors:\n",
            "[[-1.38098022]\n",
            " [ 0.507885  ]]\n",
            "Most frequently sampled bit string is: 1110111\n",
            "\n",
            "p=4\n",
            "Objective after step     5:  2.0000000\n",
            "Objective after step    10:  22.0000000\n",
            "Objective after step    15:  18.0000000\n",
            "Objective after step    20: -0.0000000\n",
            "Objective after step    25: -2.0000000\n",
            "Objective after step    30:  8.0000000\n",
            "Objective after step    35:  14.0000000\n",
            "Objective after step    40:  8.0000000\n",
            "Objective after step    45:  12.0000000\n",
            "Objective after step    50:  8.0000000\n",
            "Objective after step    55:  4.0000000\n",
            "Objective after step    60:  16.0000000\n",
            "Objective after step    65:  12.0000000\n",
            "Objective after step    70:  28.0000000\n",
            "Objective after step    75:  16.0000000\n",
            "Objective after step    80: -4.0000000\n",
            "Objective after step    85:  12.0000000\n",
            "Objective after step    90:  16.0000000\n",
            "Objective after step    95:  20.0000000\n",
            "Objective after step   100:  14.0000000\n",
            "Optimized (gamma, beta) vectors:\n",
            "[[-1.07104401  1.30410591  0.20679302  1.23076248]\n",
            " [-0.14750065  0.57952828  0.27245302  1.47924274]]\n",
            "Most frequently sampled bit string is: 11111111\n"
          ]
        }
      ],
      "source": [
        "def qaoa_maxcut(n_layers=1):\n",
        "    print(\"\\np={:d}\".format(n_layers))\n",
        "\n",
        "    # initialize the parameters near zero\n",
        "    init_params = 0.01 * np.random.rand(2, n_layers, requires_grad=True)\n",
        "\n",
        "    # minimize the negative of the objective function\n",
        "    def objective(params):\n",
        "        gammas = params[0]\n",
        "        betas = params[1]\n",
        "        neg_obj = 0\n",
        "        for edge in edges:\n",
        "            # objective for the MaxCut problem\n",
        "            weight_A = weighted_edges[edge]\n",
        "            weight_Delta = weighted_edges_D[edge] #new imposed weight from uncertainty description\n",
        "            weight = weight_A*weight_Delta\n",
        "            neg_obj -= weight*circuit(gammas, betas, edge=edge, n_layers=n_layers)\n",
        "        return neg_obj\n",
        "\n",
        "    # initialize optimizer: Adagrad works well empirically\n",
        "    opt = qml.AdagradOptimizer(stepsize=0.5)\n",
        "\n",
        "    # optimize parameters in objective\n",
        "    params = init_params\n",
        "    steps = 100\n",
        "    for i in range(steps):\n",
        "        params = opt.step(objective, params)\n",
        "        if (i + 1) % 5 == 0:\n",
        "            print(\"Objective after step {:5d}: {: .7f}\".format(i + 1, -objective(params)))\n",
        "\n",
        "    # sample measured bitstrings 100 times\n",
        "    bit_strings = []\n",
        "    n_samples = 100\n",
        "    for i in range(0, n_samples):\n",
        "        bit_strings.append(bitstring_to_int(circuit(params[0], params[1], edge=None, n_layers=n_layers)))\n",
        "\n",
        "    # print optimal parameters and most frequently sampled bitstring\n",
        "    counts = np.bincount(np.array(bit_strings))\n",
        "    most_freq_bit_string = np.argmax(counts)\n",
        "    print(\"Optimized (gamma, beta) vectors:\\n{}\".format(params[:, :n_layers]))\n",
        "    print(\"Most frequently sampled bit string is: {:04b}\".format(most_freq_bit_string))\n",
        "\n",
        "    return -objective(params), bit_strings\n",
        "\n",
        "\n",
        "# perform qaoa on our graph with p=1,2 and\n",
        "# keep the bitstring sample lists\n",
        "bitstrings1 = qaoa_maxcut(n_layers=1)[1]\n",
        "bitstrings2 = qaoa_maxcut(n_layers=4)[1]"
      ]
    },
    {
      "cell_type": "markdown",
      "metadata": {},
      "source": [
        "In the case where we set `n_layers=2`, we recover the optimal objective\n",
        "function $C=4$\n"
      ]
    },
    {
      "cell_type": "markdown",
      "metadata": {},
      "source": [
        "Plotting the results\n",
        "====================\n",
        "\n",
        "We can plot the distribution of measurements obtained from the optimized\n",
        "circuits. As expected for this graph, the partitions 0101 and 1010 are\n",
        "measured with the highest frequencies, and in the case where we set\n",
        "`n_layers=2` we obtain one of the optimal partitions with 100%\n",
        "certainty.\n"
      ]
    },
    {
      "cell_type": "code",
      "execution_count": 21,
      "metadata": {
        "collapsed": false
      },
      "outputs": [
        {
          "data": {
            "image/png": "[encoded data removed]",
            "text/plain": [
              "<Figure size 640x480 with 1 Axes>"
            ]
          },
          "metadata": {},
          "output_type": "display_data"
        }
      ],
      "source": [
        "import matplotlib.pyplot as plt\n",
        "\n",
        "xticks = range(0, 256)\n",
        "xtick_labels = list(map(lambda x: format(x, \"08b\"), xticks))\n",
        "bins = np.arange(0, 256)\n",
        "\n",
        "# fig, (ax1, ax2) = plt.subplots(1, 2, figsize=(8, 4))\n",
        "# plt.subplot(1, 2, 1)\n",
        "# plt.title(\"n_layers=1\")\n",
        "# plt.xlabel(\"bitstrings\")\n",
        "# plt.ylabel(\"freq.\")\n",
        "# plt.xticks(xticks, xtick_labels, rotation=\"vertical\")\n",
        "# plt.hist(bitstrings1, bins=bins)\n",
        "# plt.subplot(1, 2, 2)\n",
        "# plt.title(\"n_layers=4\")\n",
        "# plt.xlabel(\"bitstrings\")\n",
        "# plt.ylabel(\"freq.\")\n",
        "# plt.xticks(xticks, xtick_labels, rotation=\"vertical\")\n",
        "# plt.hist(bitstrings2, bins=bins)\n",
        "# plt.tight_layout()\n",
        "# plt.show()\n",
        "plt.title(\"Histogram Comparison\")\n",
        "plt.xlabel(\"Bitstrings\")\n",
        "plt.ylabel(\"Frequency\")\n",
        "plt.xticks(xticks, xtick_labels, rotation=\"vertical\")\n",
        "\n",
        "plt.hist(bitstrings1, bins=bins, alpha=0.5, label=\"n_layers=1\")  # Plot first histogram\n",
        "plt.hist(bitstrings2, bins=bins, alpha=0.5, label=\"n_layers=4\")  # Plot second histogram\n",
        "\n",
        "plt.legend()  # Display legend\n",
        "\n",
        "plt.tight_layout()\n",
        "plt.show()"
      ]
    },
    {
      "cell_type": "markdown",
      "metadata": {},
      "source": [
        "About the author\n",
        "================\n"
      ]
    }
  ],
  "metadata": {
    "kernelspec": {
      "display_name": "Python 3",
      "language": "python",
      "name": "python3"
    },
    "language_info": {
      "codemirror_mode": {
        "name": "ipython",
        "version": 3
      },
      "file_extension": ".py",
      "mimetype": "text/x-python",
      "name": "python",
      "nbconvert_exporter": "python",
      "pygments_lexer": "ipython3",
      "version": "3.11.4"
    }
  },
  "nbformat": 4,
  "nbformat_minor": 0
}
